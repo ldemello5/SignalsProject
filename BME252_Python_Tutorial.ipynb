{
 "cells": [
  {
   "cell_type": "markdown",
   "id": "b673863a-efac-463c-a4a9-fce1858efe84",
   "metadata": {
    "tags": []
   },
   "source": [
    "# Introduction"
   ]
  },
  {
   "cell_type": "markdown",
   "id": "4606b44f-85c4-41fa-9fb2-cc094ca14557",
   "metadata": {},
   "source": [
    "Defining a list in python is easy\n",
    "\n",
    "Use square [ ] brackets\n",
    " \n",
    "Use print( ) to see it\n",
    "\n",
    "Use round brackets for any function"
   ]
  },
  {
   "cell_type": "code",
   "execution_count": 44,
   "id": "6f38dc40-2074-4b32-97ce-8f4fb47fcd12",
   "metadata": {},
   "outputs": [
    {
     "name": "stdout",
     "output_type": "stream",
     "text": [
      "[1, 2, 3]\n"
     ]
    }
   ],
   "source": [
    "x = [1,2,3]\n",
    "print(x)"
   ]
  },
  {
   "cell_type": "markdown",
   "id": "04c8e432-0e0e-446a-878e-f830d056564b",
   "metadata": {
    "jp-MarkdownHeadingCollapsed": true,
    "tags": []
   },
   "source": [
    "# The Numpy Package"
   ]
  },
  {
   "cell_type": "code",
   "execution_count": 2,
   "id": "f5970006-641f-448b-bbaa-191c1f341912",
   "metadata": {},
   "outputs": [],
   "source": [
    "import numpy as np"
   ]
  },
  {
   "cell_type": "markdown",
   "id": "be984016-3355-4d87-9cc8-af9d6f5b2b7e",
   "metadata": {},
   "source": [
    "Numpy is another way to define lists"
   ]
  },
  {
   "cell_type": "code",
   "execution_count": 46,
   "id": "93469d42-c305-4ec1-8940-9149954db68b",
   "metadata": {},
   "outputs": [
    {
     "name": "stdout",
     "output_type": "stream",
     "text": [
      "[ 1.  2.  3.  4.  5.  6.  7.  8.  9. 10.]\n"
     ]
    }
   ],
   "source": [
    "N=10\n",
    "time= np.linspace(1,10,N)\n",
    "print(time)"
   ]
  },
  {
   "cell_type": "code",
   "execution_count": 47,
   "id": "e7566b45-0060-4e01-b4d6-b77f78cfa87b",
   "metadata": {},
   "outputs": [
    {
     "name": "stdout",
     "output_type": "stream",
     "text": [
      "[ 2.  4.  6.  8. 10. 12. 14. 16. 18. 20.]\n"
     ]
    }
   ],
   "source": [
    "y=2*time\n",
    "print(y)"
   ]
  },
  {
   "cell_type": "code",
   "execution_count": 51,
   "id": "b1daf6a7-8c0c-4958-ba5f-46a5635e8cb3",
   "metadata": {},
   "outputs": [
    {
     "name": "stdout",
     "output_type": "stream",
     "text": [
      "[1. 1. 1. 1. 1. 1. 1. 1. 1. 1.]\n"
     ]
    }
   ],
   "source": [
    "y=np.cos(2*np.pi*time)\n",
    "print(y)"
   ]
  },
  {
   "cell_type": "markdown",
   "id": "caac65b3-1736-4f5b-94f6-cdef6a4fa82b",
   "metadata": {},
   "source": [
    "Numpy is usefull since it has np.pi(), np.cos(), np.abs(), and other usefull built in functions"
   ]
  },
  {
   "cell_type": "markdown",
   "id": "917c7283-0fef-40ab-ae7d-517c66d3900a",
   "metadata": {
    "jp-MarkdownHeadingCollapsed": true,
    "tags": []
   },
   "source": [
    "# Loops"
   ]
  },
  {
   "cell_type": "code",
   "execution_count": 53,
   "id": "008e0eee-2651-4af8-917d-a3b930a8f42e",
   "metadata": {},
   "outputs": [
    {
     "name": "stdout",
     "output_type": "stream",
     "text": [
      "1\n",
      "2\n",
      "3\n"
     ]
    }
   ],
   "source": [
    "for x in [1,2,3]: #Note the : and the following indentation\n",
    "    print(x)"
   ]
  },
  {
   "cell_type": "code",
   "execution_count": 55,
   "id": "641e6c21-7172-441b-97fe-6e1608ab1858",
   "metadata": {},
   "outputs": [
    {
     "name": "stdout",
     "output_type": "stream",
     "text": [
      "0.0\n",
      "2.0\n",
      "---\n",
      "1.0\n",
      "3.0\n",
      "---\n",
      "2.0\n",
      "4.0\n",
      "---\n"
     ]
    }
   ],
   "source": [
    "r=2\n",
    "for x in [1,2,3]:\n",
    "    print(x-r/2)\n",
    "    print(x+r/2)\n",
    "    print('---')"
   ]
  },
  {
   "cell_type": "markdown",
   "id": "b08930ed-be69-4155-9f8e-a215ad8db2bb",
   "metadata": {},
   "source": [
    "You can also use range(start, stop, step)"
   ]
  },
  {
   "cell_type": "code",
   "execution_count": 57,
   "id": "d01a418b-705e-4c48-a35e-747bafa10fb2",
   "metadata": {},
   "outputs": [
    {
     "name": "stdout",
     "output_type": "stream",
     "text": [
      "0\n",
      "2\n",
      "4\n",
      "6\n",
      "8\n"
     ]
    }
   ],
   "source": [
    "for x in range(0,10,2): # Note that range drops the last value!\n",
    "    print(x)"
   ]
  },
  {
   "cell_type": "markdown",
   "id": "7575984e-14b7-458f-9dc3-56c78eb7d913",
   "metadata": {},
   "source": [
    "We can do a sum using loops"
   ]
  },
  {
   "cell_type": "code",
   "execution_count": 9,
   "id": "cda717f9-c77e-41c2-b49d-dc40abd9189c",
   "metadata": {},
   "outputs": [
    {
     "name": "stdout",
     "output_type": "stream",
     "text": [
      "1\n",
      "3\n",
      "6\n",
      "10\n",
      "15\n"
     ]
    }
   ],
   "source": [
    "y=0\n",
    "for x in [1,2,3,4,5]: \n",
    "    y=y+x\n",
    "    print(y)"
   ]
  },
  {
   "cell_type": "code",
   "execution_count": 10,
   "id": "cc0d22a0-b37d-4788-9f81-b80c7f07bb50",
   "metadata": {},
   "outputs": [
    {
     "data": {
      "text/plain": [
       "15"
      ]
     },
     "execution_count": 10,
     "metadata": {},
     "output_type": "execute_result"
    }
   ],
   "source": [
    "np.sum([1,2,3,4,5])"
   ]
  },
  {
   "cell_type": "markdown",
   "id": "31de24ca-8ccd-4915-bd59-cca21fdc6cb7",
   "metadata": {},
   "source": [
    "We can also concatenate lists"
   ]
  },
  {
   "cell_type": "code",
   "execution_count": 11,
   "id": "312b0639-7ba4-41f2-b3f0-1c5f866fbf8d",
   "metadata": {},
   "outputs": [
    {
     "name": "stdout",
     "output_type": "stream",
     "text": [
      "[1]\n",
      "[1, 2]\n",
      "[1, 2, 3]\n",
      "[1, 2, 3, 4]\n",
      "[1, 2, 3, 4, 5]\n"
     ]
    }
   ],
   "source": [
    "y=[]\n",
    "for x in [1,2,3,4,5]: \n",
    "    y.append(x)\n",
    "    print(y)"
   ]
  },
  {
   "cell_type": "code",
   "execution_count": 12,
   "id": "9e33a4d6-27ac-43f9-afc1-2ce660a0cd8d",
   "metadata": {},
   "outputs": [
    {
     "name": "stdout",
     "output_type": "stream",
     "text": [
      "[[1, 2]]\n",
      "[[1, 2], [3, 4]]\n",
      "[[1, 2], [3, 4], [5, 6]]\n"
     ]
    }
   ],
   "source": [
    "y=[]\n",
    "\n",
    "list_of_lists= [ [1,2] , [3,4] , [5,6] ]\n",
    "\n",
    "for x in list_of_lists: \n",
    "    y.append(x)\n",
    "    print(y)"
   ]
  },
  {
   "cell_type": "markdown",
   "id": "dc445bd7-bdfc-46a6-b6a4-5ff8148cea65",
   "metadata": {
    "jp-MarkdownHeadingCollapsed": true,
    "tags": []
   },
   "source": [
    "# Indexing"
   ]
  },
  {
   "cell_type": "markdown",
   "id": "d9b21446-d01b-4a1a-aa34-66b5560051d7",
   "metadata": {},
   "source": [
    "We can access a part of a list using an index"
   ]
  },
  {
   "cell_type": "code",
   "execution_count": 13,
   "id": "e959c85b-b460-4fc6-a5ad-9fa2bc4d80cc",
   "metadata": {},
   "outputs": [
    {
     "data": {
      "text/plain": [
       "10"
      ]
     },
     "execution_count": 13,
     "metadata": {},
     "output_type": "execute_result"
    }
   ],
   "source": [
    "simple_list = [10,20,30,40,50,60,70,80]\n",
    "simple_list[0] # Square brackets are for indexing"
   ]
  },
  {
   "cell_type": "code",
   "execution_count": 14,
   "id": "2519f932-7939-403b-b64a-dc289d13931f",
   "metadata": {},
   "outputs": [
    {
     "data": {
      "text/plain": [
       "80"
      ]
     },
     "execution_count": 14,
     "metadata": {},
     "output_type": "execute_result"
    }
   ],
   "source": [
    "simple_list[-1]"
   ]
  },
  {
   "cell_type": "code",
   "execution_count": 15,
   "id": "91a4d273-19f2-4950-962e-5ef3f6acd7da",
   "metadata": {},
   "outputs": [
    {
     "data": {
      "text/plain": [
       "[10, 20, 30, 40, 50, 60, 70, 80]"
      ]
     },
     "execution_count": 15,
     "metadata": {},
     "output_type": "execute_result"
    }
   ],
   "source": [
    "simple_list[:]"
   ]
  },
  {
   "cell_type": "code",
   "execution_count": 16,
   "id": "e6d0999e-f71a-42d4-b042-b6581a6667cd",
   "metadata": {},
   "outputs": [
    {
     "data": {
      "text/plain": [
       "[10, 20]"
      ]
     },
     "execution_count": 16,
     "metadata": {},
     "output_type": "execute_result"
    }
   ],
   "source": [
    "simple_list[0:2] # Note that last value is dropped"
   ]
  },
  {
   "cell_type": "code",
   "execution_count": 59,
   "id": "0d8aaebc-b4f4-4244-8883-6e4bd7afd725",
   "metadata": {},
   "outputs": [
    {
     "data": {
      "text/plain": [
       "[10, 30, 50]"
      ]
     },
     "execution_count": 59,
     "metadata": {},
     "output_type": "execute_result"
    }
   ],
   "source": [
    "simple_list[0:5:2] # Start:Stop:Step"
   ]
  },
  {
   "cell_type": "code",
   "execution_count": 17,
   "id": "155f8b99-b77e-42c7-8f38-51cb71c4d322",
   "metadata": {},
   "outputs": [
    {
     "data": {
      "text/plain": [
       "[10, 30, 50, 70]"
      ]
     },
     "execution_count": 17,
     "metadata": {},
     "output_type": "execute_result"
    }
   ],
   "source": [
    "simple_list[::2] # Downsampling !"
   ]
  },
  {
   "cell_type": "markdown",
   "id": "783e6146-4947-475a-9d19-3ddb3c3430ac",
   "metadata": {},
   "source": [
    "For 2D lists"
   ]
  },
  {
   "cell_type": "code",
   "execution_count": 18,
   "id": "01bac735-88ab-418f-b058-52e50affd770",
   "metadata": {},
   "outputs": [
    {
     "data": {
      "text/plain": [
       "[1, 2]"
      ]
     },
     "execution_count": 18,
     "metadata": {},
     "output_type": "execute_result"
    }
   ],
   "source": [
    "list_of_lists= [ [1,2] , [3,4] , [5,6] ]\n",
    "list_of_lists[0]"
   ]
  },
  {
   "cell_type": "code",
   "execution_count": 19,
   "id": "acc265c2-4725-438b-98b8-728dbd55bb8e",
   "metadata": {},
   "outputs": [
    {
     "ename": "TypeError",
     "evalue": "list indices must be integers or slices, not tuple",
     "output_type": "error",
     "traceback": [
      "\u001b[0;31m---------------------------------------------------------------------------\u001b[0m",
      "\u001b[0;31mTypeError\u001b[0m                                 Traceback (most recent call last)",
      "Input \u001b[0;32mIn [19]\u001b[0m, in \u001b[0;36m<cell line: 1>\u001b[0;34m()\u001b[0m\n\u001b[0;32m----> 1\u001b[0m \u001b[43mlist_of_lists\u001b[49m\u001b[43m[\u001b[49m\u001b[38;5;241;43m0\u001b[39;49m\u001b[43m,\u001b[49m\u001b[38;5;241;43m1\u001b[39;49m\u001b[43m]\u001b[49m\n",
      "\u001b[0;31mTypeError\u001b[0m: list indices must be integers or slices, not tuple"
     ]
    }
   ],
   "source": [
    "list_of_lists[0,1] # An error arises!"
   ]
  },
  {
   "cell_type": "code",
   "execution_count": 20,
   "id": "b1ffea85-403d-413b-8d6f-bfed53920bae",
   "metadata": {},
   "outputs": [
    {
     "data": {
      "text/plain": [
       "2"
      ]
     },
     "execution_count": 20,
     "metadata": {},
     "output_type": "execute_result"
    }
   ],
   "source": [
    "# As a numpy, it works flawlessly\n",
    "newlist=np.array(list_of_lists)\n",
    "newlist[0,1]"
   ]
  },
  {
   "cell_type": "markdown",
   "id": "9c791595-6a1d-4d4c-a956-9dbde1549580",
   "metadata": {
    "jp-MarkdownHeadingCollapsed": true,
    "tags": []
   },
   "source": [
    "# Plotting"
   ]
  },
  {
   "cell_type": "code",
   "execution_count": 61,
   "id": "70d237a7-cff2-48a5-960c-e4c23dc77ad2",
   "metadata": {},
   "outputs": [],
   "source": [
    "import matplotlib.pyplot as plt"
   ]
  },
  {
   "cell_type": "code",
   "execution_count": 62,
   "id": "2762d4f4-cd59-4197-bfef-2e780a1ba713",
   "metadata": {},
   "outputs": [],
   "source": [
    "N=100\n",
    "time= np.linspace(0,10,N)\n",
    "y=np.cos(2*np.pi*time)\n",
    "y2=np.sin(2*np.pi*time)"
   ]
  },
  {
   "cell_type": "code",
   "execution_count": 23,
   "id": "180aabfe-d6de-49bf-bcf1-eb4c6d7fa2a2",
   "metadata": {},
   "outputs": [
    {
     "data": {
      "text/plain": [
       "[<matplotlib.lines.Line2D at 0x7fdc5971f2e0>]"
      ]
     },
     "execution_count": 23,
     "metadata": {},
     "output_type": "execute_result"
    },
    {
     "data": {
      "image/png": "[encoded data removed]",
      "text/plain": [
       "<Figure size 432x288 with 1 Axes>"
      ]
     },
     "metadata": {
      "needs_background": "light"
     },
     "output_type": "display_data"
    }
   ],
   "source": [
    "plt.plot(time,y) # x axis , y axis , options"
   ]
  },
  {
   "cell_type": "code",
   "execution_count": 24,
   "id": "1c9d9d94-56f9-43e4-8b1e-04fb8aac2e5f",
   "metadata": {},
   "outputs": [
    {
     "data": {
      "text/plain": [
       "(0.0, 2.0)"
      ]
     },
     "execution_count": 24,
     "metadata": {},
     "output_type": "execute_result"
    },
    {
     "data": {
      "image/png": "[encoded data removed]",
      "text/plain": [
       "<Figure size 432x288 with 1 Axes>"
      ]
     },
     "metadata": {
      "needs_background": "light"
     },
     "output_type": "display_data"
    }
   ],
   "source": [
    "plt.plot(time,y)\n",
    "plt.xlim([0,2]) # controls the x limits ( ylim is for y limits)"
   ]
  },
  {
   "cell_type": "code",
   "execution_count": 25,
   "id": "4d6cf31b-e42b-4ce7-b892-0be5a49bddcb",
   "metadata": {},
   "outputs": [
    {
     "data": {
      "text/plain": [
       "<matplotlib.legend.Legend at 0x7fdc59871040>"
      ]
     },
     "execution_count": 25,
     "metadata": {},
     "output_type": "execute_result"
    },
    {
     "data": {
      "image/png": "[encoded data removed]",
      "text/plain": [
       "<Figure size 432x288 with 1 Axes>"
      ]
     },
     "metadata": {
      "needs_background": "light"
     },
     "output_type": "display_data"
    }
   ],
   "source": [
    "plt.plot(time,y,label='cosine') # the label is for the legend\n",
    "plt.plot(time,y2,'r',label='sine') # another plot on the same figure using a different color 'r' ( r for red, g for green, b for blue,k for black)\n",
    "plt.xlim([0,2])\n",
    "plt.legend(loc='upper right') # places a legend"
   ]
  },
  {
   "cell_type": "code",
   "execution_count": 26,
   "id": "c2dedf5b-0757-490b-a119-0fdab1ec0887",
   "metadata": {},
   "outputs": [
    {
     "data": {
      "text/plain": [
       "Text(0, 0.5, 'Signal (V)')"
      ]
     },
     "execution_count": 26,
     "metadata": {},
     "output_type": "execute_result"
    },
    {
     "data": {
      "image/png": "[encoded data removed]",
      "text/plain": [
       "<Figure size 432x288 with 1 Axes>"
      ]
     },
     "metadata": {
      "needs_background": "light"
     },
     "output_type": "display_data"
    }
   ],
   "source": [
    "plt.plot(time,y,label='cosine')\n",
    "plt.plot(time,y2,'r',label='sine')\n",
    "plt.xlim([0,2])\n",
    "plt.legend(loc='upper right')\n",
    "plt.grid() # Adds a grid\n",
    "plt.xlabel('Time (s)') # Adds an x label\n",
    "plt.ylabel('Signal (V)') # Adds a y label"
   ]
  },
  {
   "cell_type": "code",
   "execution_count": 64,
   "id": "979ee4b1-90d3-4ae4-b270-67438dc8f772",
   "metadata": {},
   "outputs": [
    {
     "data": {
      "image/png": "[encoded data removed]",
      "text/plain": [
       "<Figure size 432x288 with 1 Axes>"
      ]
     },
     "metadata": {
      "needs_background": "light"
     },
     "output_type": "display_data"
    }
   ],
   "source": [
    "plt.plot(time,y,label='cosine')\n",
    "plt.plot(time,y2,'r',label='sine')\n",
    "plt.xlim([0,2])\n",
    "plt.legend(loc='upper right')\n",
    "plt.grid()\n",
    "plt.xlabel('Time (s)')\n",
    "plt.ylabel('Signal (V)')\n",
    "plt.savefig('myfigure.png') # Saves the figure in working directory"
   ]
  },
  {
   "cell_type": "markdown",
   "id": "3e2cae25-7c2a-424a-802c-0600e978dfff",
   "metadata": {
    "jp-MarkdownHeadingCollapsed": true,
    "tags": []
   },
   "source": [
    "# FFT"
   ]
  },
  {
   "cell_type": "code",
   "execution_count": 28,
   "id": "f590fb06-63cf-4d88-8df9-687823478e03",
   "metadata": {},
   "outputs": [],
   "source": [
    "from scipy.fft import fft, fftfreq"
   ]
  },
  {
   "cell_type": "code",
   "execution_count": 71,
   "id": "3e29d391-a0c9-49aa-9670-87e07da37879",
   "metadata": {},
   "outputs": [],
   "source": [
    "x=np.linspace(0,10,100) # fs is 100/10 = 10\n",
    "y=np.sin(2*np.pi*x)\n",
    "\n",
    "N=len(y)\n",
    "yf=(2/N) * np.abs(fft(y))  # Note teh 2/N and the absolute\n",
    "xf=fftfreq(N,0.1) # ts=1/fs is the 0.1"
   ]
  },
  {
   "cell_type": "code",
   "execution_count": 72,
   "id": "d71fd7c8-154f-4646-a953-bd6ac88fa1ae",
   "metadata": {},
   "outputs": [
    {
     "data": {
      "text/plain": [
       "[<matplotlib.lines.Line2D at 0x7fdc410998e0>]"
      ]
     },
     "execution_count": 72,
     "metadata": {},
     "output_type": "execute_result"
    },
    {
     "data": {
      "image/png": "[encoded data removed]",
      "text/plain": [
       "<Figure size 432x288 with 1 Axes>"
      ]
     },
     "metadata": {
      "needs_background": "light"
     },
     "output_type": "display_data"
    }
   ],
   "source": [
    "plt.plot(xf,yf)"
   ]
  },
  {
   "cell_type": "code",
   "execution_count": 73,
   "id": "1e3f14e8-1e32-418f-ab45-dc2d5fefc186",
   "metadata": {},
   "outputs": [
    {
     "name": "stdout",
     "output_type": "stream",
     "text": [
      "100\n",
      "100\n"
     ]
    }
   ],
   "source": [
    "# The number of points N does not change!\n",
    "print( len(y) )\n",
    "print( len(yf) )"
   ]
  },
  {
   "cell_type": "code",
   "execution_count": 74,
   "id": "ac079176-46e5-4670-be0e-1ce15a089655",
   "metadata": {},
   "outputs": [
    {
     "data": {
      "text/plain": [
       "[<matplotlib.lines.Line2D at 0x7fdc411865e0>]"
      ]
     },
     "execution_count": 74,
     "metadata": {},
     "output_type": "execute_result"
    },
    {
     "data": {
      "image/png": "[encoded data removed]",
      "text/plain": [
       "<Figure size 432x288 with 1 Axes>"
      ]
     },
     "metadata": {
      "needs_background": "light"
     },
     "output_type": "display_data"
    }
   ],
   "source": [
    "newxf=xf[0:N//2]\n",
    "newyf=yf[0:N//2]\n",
    "\n",
    "plt.plot(newxf,newyf)"
   ]
  },
  {
   "cell_type": "code",
   "execution_count": 32,
   "id": "e7960515-86c3-4c09-a497-dfbf04243304",
   "metadata": {},
   "outputs": [
    {
     "data": {
      "text/plain": [
       "3"
      ]
     },
     "execution_count": 32,
     "metadata": {},
     "output_type": "execute_result"
    }
   ],
   "source": [
    "10//3"
   ]
  },
  {
   "cell_type": "markdown",
   "id": "c314d04e-4d93-4c40-937e-0ee2012ac197",
   "metadata": {
    "jp-MarkdownHeadingCollapsed": true,
    "tags": []
   },
   "source": [
    "# Filters"
   ]
  },
  {
   "cell_type": "code",
   "execution_count": 78,
   "id": "fc6d8bce-9e5e-4c47-994a-39e250c84257",
   "metadata": {},
   "outputs": [],
   "source": [
    "from scipy import signal"
   ]
  },
  {
   "cell_type": "code",
   "execution_count": 76,
   "id": "117e78a8-6c24-44d0-87d5-5f869a337efd",
   "metadata": {},
   "outputs": [],
   "source": [
    "x=np.linspace(0,10,10000) # fs is 10000/10 = 1000\n",
    "y=np.sin(2*np.pi*100*x) # frequency is 100 Hz"
   ]
  },
  {
   "cell_type": "markdown",
   "id": "b9049ea8-0695-4d15-b50f-b94593aff9f1",
   "metadata": {},
   "source": [
    "Example: Using a butterworth type filter:"
   ]
  },
  {
   "cell_type": "code",
   "execution_count": 77,
   "id": "e3160f54-3b03-4ea1-a39c-e967d88c29fd",
   "metadata": {},
   "outputs": [],
   "source": [
    "order=8\n",
    "f1 = 150\n",
    "f2 = 250 \n",
    "sos=signal.butter(order,[f1,f2], btype='bandpass', fs=1000, output='sos') # Creates the filter with type 'band'\n",
    "databpf = signal.sosfilt(sos,y) # Applies the filter"
   ]
  },
  {
   "cell_type": "markdown",
   "id": "7c31e857-d6c9-454b-bd8d-9e78d5a0538f",
   "metadata": {},
   "source": [
    "btype could ba {'lowpass', 'highpass', 'bandpass', 'bandstop'}\n",
    "\n",
    "example : signal.butter(order,fc, btype='lowpass', fs=1000, output='sos') \n",
    "\n",
    "always use output='sos' \n",
    "\n",
    "other options are signal.cheby1, signal.bessel, signal.ellip, ... \n"
   ]
  },
  {
   "cell_type": "code",
   "execution_count": 79,
   "id": "f520d0f3-6203-404c-83e0-2976b6883e7c",
   "metadata": {},
   "outputs": [
    {
     "data": {
      "text/plain": [
       "<matplotlib.legend.Legend at 0x7fdc40ccdc10>"
      ]
     },
     "execution_count": 79,
     "metadata": {},
     "output_type": "execute_result"
    },
    {
     "data": {
      "image/png": "[encoded data removed]",
      "text/plain": [
       "<Figure size 432x288 with 1 Axes>"
      ]
     },
     "metadata": {
      "needs_background": "light"
     },
     "output_type": "display_data"
    }
   ],
   "source": [
    "# Get the fft fo both unfiltered and filtered\n",
    "N=len(y)\n",
    "yf=(2/N) * np.abs(fft(y)) \n",
    "databpf_f=(2/N) * np.abs(fft(databpf))\n",
    "\n",
    "# Truncate fft to RHS only\n",
    "xf=fftfreq(N,1/1000) # ts=1/fs is the 0.1\n",
    "yf=yf[0:N//2]\n",
    "databpf_f=databpf_f[0:N//2]\n",
    "xf=xf[0:N//2]\n",
    "\n",
    "# Plot them\n",
    "plt.plot(xf,yf,'--',label='signal')\n",
    "plt.plot(xf,databpf_f,'k',label='filtered signal')\n",
    "plt.xlim([98,102])\n",
    "plt.legend()"
   ]
  },
  {
   "cell_type": "markdown",
   "id": "f28a3827-c028-4ad8-aa6a-a252c8fd4035",
   "metadata": {},
   "source": [
    "Go back and try different bpf cuttoffs!"
   ]
  },
  {
   "cell_type": "markdown",
   "id": "60992c48-4638-4b21-9367-2ea5a16a81ad",
   "metadata": {
    "tags": []
   },
   "source": [
    "# Import / Export"
   ]
  },
  {
   "cell_type": "markdown",
   "id": "b913a196-8b7f-4a9e-914e-0dbb2c625508",
   "metadata": {},
   "source": [
    "### wav-files"
   ]
  },
  {
   "cell_type": "code",
   "execution_count": 80,
   "id": "e3cabdc8-9d40-4f14-9634-4f865299b207",
   "metadata": {},
   "outputs": [],
   "source": [
    "from scipy.io import wavfile"
   ]
  },
  {
   "cell_type": "code",
   "execution_count": 38,
   "id": "73ef3ef7-d90f-469a-8f1d-e8929102fb1b",
   "metadata": {},
   "outputs": [],
   "source": [
    "fs,data = wavfile.read('file.wav') #loads the file and its sampling frequency"
   ]
  },
  {
   "cell_type": "markdown",
   "id": "522212e8-757f-4bf2-b0cd-2160ce0d781d",
   "metadata": {},
   "source": [
    "To export, the data must be compatible with wav format it must be integer from 0 to 255"
   ]
  },
  {
   "cell_type": "code",
   "execution_count": 39,
   "id": "2abb18ac-07a4-45fb-a338-713e4a7b988b",
   "metadata": {},
   "outputs": [],
   "source": [
    "y2=255*y / np.max(y) # new maximum is now 255\n",
    "dataout = np.asarray(y2, dtype=np.int16) # to integer type 16\n",
    "\n",
    "wavfile.write('file.wav',1000,dataout)"
   ]
  },
  {
   "cell_type": "markdown",
   "id": "c5d2a67c-694b-4bc7-a1bb-256d2cf8651c",
   "metadata": {},
   "source": [
    "### csv-files"
   ]
  },
  {
   "cell_type": "code",
   "execution_count": 40,
   "id": "bec6ae9a-e2e5-4a9f-b72f-361bdf616a0a",
   "metadata": {},
   "outputs": [
    {
     "data": {
      "text/html": [
       "<div>\n",
       "<style scoped>\n",
       "    .dataframe tbody tr th:only-of-type {\n",
       "        vertical-align: middle;\n",
       "    }\n",
       "\n",
       "    .dataframe tbody tr th {\n",
       "        vertical-align: top;\n",
       "    }\n",
       "\n",
       "    .dataframe thead th {\n",
       "        text-align: right;\n",
       "    }\n",
       "</style>\n",
       "<table border=\"1\" class=\"dataframe\">\n",
       "  <thead>\n",
       "    <tr style=\"text-align: right;\">\n",
       "      <th></th>\n",
       "      <th>Time (s)</th>\n",
       "      <th>EMG_Relaxed (mV)</th>\n",
       "      <th>EMG_Contracted (mV)</th>\n",
       "    </tr>\n",
       "  </thead>\n",
       "  <tbody>\n",
       "    <tr>\n",
       "      <th>0</th>\n",
       "      <td>0.000000</td>\n",
       "      <td>0.006408</td>\n",
       "      <td>0.077323</td>\n",
       "    </tr>\n",
       "    <tr>\n",
       "      <th>1</th>\n",
       "      <td>0.000488</td>\n",
       "      <td>0.020228</td>\n",
       "      <td>0.090928</td>\n",
       "    </tr>\n",
       "    <tr>\n",
       "      <th>2</th>\n",
       "      <td>0.000977</td>\n",
       "      <td>0.024025</td>\n",
       "      <td>0.105868</td>\n",
       "    </tr>\n",
       "    <tr>\n",
       "      <th>3</th>\n",
       "      <td>0.001465</td>\n",
       "      <td>0.029097</td>\n",
       "      <td>0.108858</td>\n",
       "    </tr>\n",
       "    <tr>\n",
       "      <th>4</th>\n",
       "      <td>0.001953</td>\n",
       "      <td>0.041916</td>\n",
       "      <td>0.096336</td>\n",
       "    </tr>\n",
       "    <tr>\n",
       "      <th>...</th>\n",
       "      <td>...</td>\n",
       "      <td>...</td>\n",
       "      <td>...</td>\n",
       "    </tr>\n",
       "    <tr>\n",
       "      <th>10235</th>\n",
       "      <td>4.998047</td>\n",
       "      <td>0.062229</td>\n",
       "      <td>0.081343</td>\n",
       "    </tr>\n",
       "    <tr>\n",
       "      <th>10236</th>\n",
       "      <td>4.998535</td>\n",
       "      <td>0.073073</td>\n",
       "      <td>0.093125</td>\n",
       "    </tr>\n",
       "    <tr>\n",
       "      <th>10237</th>\n",
       "      <td>4.999023</td>\n",
       "      <td>0.081152</td>\n",
       "      <td>0.092139</td>\n",
       "    </tr>\n",
       "    <tr>\n",
       "      <th>10238</th>\n",
       "      <td>4.999512</td>\n",
       "      <td>0.081137</td>\n",
       "      <td>0.081911</td>\n",
       "    </tr>\n",
       "    <tr>\n",
       "      <th>10239</th>\n",
       "      <td>5.000000</td>\n",
       "      <td>0.079691</td>\n",
       "      <td>0.075158</td>\n",
       "    </tr>\n",
       "  </tbody>\n",
       "</table>\n",
       "<p>10240 rows × 3 columns</p>\n",
       "</div>"
      ],
      "text/plain": [
       "       Time (s)  EMG_Relaxed (mV)  EMG_Contracted (mV)\n",
       "0      0.000000          0.006408             0.077323\n",
       "1      0.000488          0.020228             0.090928\n",
       "2      0.000977          0.024025             0.105868\n",
       "3      0.001465          0.029097             0.108858\n",
       "4      0.001953          0.041916             0.096336\n",
       "...         ...               ...                  ...\n",
       "10235  4.998047          0.062229             0.081343\n",
       "10236  4.998535          0.073073             0.093125\n",
       "10237  4.999023          0.081152             0.092139\n",
       "10238  4.999512          0.081137             0.081911\n",
       "10239  5.000000          0.079691             0.075158\n",
       "\n",
       "[10240 rows x 3 columns]"
      ]
     },
     "execution_count": 40,
     "metadata": {},
     "output_type": "execute_result"
    }
   ],
   "source": [
    "import pandas as pd\n",
    "raw_data = pd.read_csv('EMG_Datasets.csv')\n",
    "raw_data"
   ]
  },
  {
   "cell_type": "code",
   "execution_count": 41,
   "id": "f0a4d8ab-0ed0-4e83-9295-c4bab912e1ef",
   "metadata": {},
   "outputs": [],
   "source": [
    "data=np.array(raw_data) # Turn data type from text to numbers"
   ]
  },
  {
   "cell_type": "code",
   "execution_count": 42,
   "id": "7683acab-d557-43ea-8055-19afce0a86e2",
   "metadata": {},
   "outputs": [
    {
     "data": {
      "text/plain": [
       "[<matplotlib.lines.Line2D at 0x7fdc54eb7c10>]"
      ]
     },
     "execution_count": 42,
     "metadata": {},
     "output_type": "execute_result"
    },
    {
     "data": {
      "image/png": "[encoded data removed]",
      "text/plain": [
       "<Figure size 432x288 with 1 Axes>"
      ]
     },
     "metadata": {
      "needs_background": "light"
     },
     "output_type": "display_data"
    }
   ],
   "source": [
    "time=data[:,0]\n",
    "volt_relaxed=data[:,1]\n",
    "volt_contracted=data[:,2]\n",
    "\n",
    "plt.plot(time,volt_relaxed) # plot the first column vs the second column"
   ]
  },
  {
   "cell_type": "markdown",
   "id": "6a786fa9-0783-40ab-99fe-a0f60234d7d4",
   "metadata": {},
   "source": [
    "Exporting a csv file"
   ]
  },
  {
   "cell_type": "code",
   "execution_count": 43,
   "id": "3961e775-80f3-4ca0-9990-47972cca6969",
   "metadata": {},
   "outputs": [],
   "source": [
    "dataframe=pd.DataFrame(data) # change to a dataframe (a Pandas data structure), and note the capitlization of DataFrame\n",
    "dataframe.to_csv(\"NEW_Data.csv\",index=False,header=['time','relaxed','contracted']) # Save to new csv files with custome headers"
   ]
  },
  {
   "cell_type": "code",
   "execution_count": null,
   "id": "6254ef6b-2529-4985-849b-21499ac5981c",
   "metadata": {},
   "outputs": [],
   "source": []
  }
 ],
 "metadata": {
  "kernelspec": {
   "display_name": "Python 3 (ipykernel)",
   "language": "python",
   "name": "python3"
  },
  "language_info": {
   "codemirror_mode": {
    "name": "ipython",
    "version": 3
   },
   "file_extension": ".py",
   "mimetype": "text/x-python",
   "name": "python",
   "nbconvert_exporter": "python",
   "pygments_lexer": "ipython3",
   "version": "3.9.12"
  },
  "toc-autonumbering": true,
  "toc-showtags": false
 },
 "nbformat": 4,
 "nbformat_minor": 5
}
